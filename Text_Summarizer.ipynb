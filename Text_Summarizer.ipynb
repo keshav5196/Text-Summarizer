{
  "nbformat": 4,
  "nbformat_minor": 0,
  "metadata": {
    "colab": {
      "name": "Text Summarizer.ipynb",
      "provenance": [],
      "collapsed_sections": []
    },
    "kernelspec": {
      "name": "python3",
      "display_name": "Python 3"
    }
  },
  "cells": [
    {
      "cell_type": "code",
      "metadata": {
        "id": "XtmOZ_scre3k",
        "colab_type": "code",
        "colab": {}
      },
      "source": [
        "import re\n",
        "import pandas as pd\n",
        "import numpy as np\n",
        "import warnings \n",
        "warnings.filterwarnings('ignore')\n",
        "\n",
        "import nltk\n",
        "import heapq"
      ],
      "execution_count": 4,
      "outputs": []
    },
    {
      "cell_type": "code",
      "metadata": {
        "id": "_N9i2azb52c4",
        "colab_type": "code",
        "colab": {
          "base_uri": "https://localhost:8080/",
          "height": 102
        },
        "outputId": "c18021fe-803b-4c66-f569-c55573384a5b"
      },
      "source": [
        "#Downloading some missing modules in nltk.\n",
        "nltk.download('stopwords')\n",
        "nltk.download('punkt')"
      ],
      "execution_count": 15,
      "outputs": [
        {
          "output_type": "stream",
          "text": [
            "[nltk_data] Downloading package stopwords to /root/nltk_data...\n",
            "[nltk_data]   Package stopwords is already up-to-date!\n",
            "[nltk_data] Downloading package punkt to /root/nltk_data...\n",
            "[nltk_data]   Unzipping tokenizers/punkt.zip.\n"
          ],
          "name": "stdout"
        },
        {
          "output_type": "execute_result",
          "data": {
            "text/plain": [
              "True"
            ]
          },
          "metadata": {
            "tags": []
          },
          "execution_count": 15
        }
      ]
    },
    {
      "cell_type": "code",
      "metadata": {
        "id": "RBfvnxYYsR97",
        "colab_type": "code",
        "colab": {}
      },
      "source": [
        "#Reading the file using pandas.\n",
        "df = pd.read_excel('/content/drive/My Drive/TASK.xlsx')"
      ],
      "execution_count": 5,
      "outputs": []
    },
    {
      "cell_type": "code",
      "metadata": {
        "id": "-V_nwRKbsoYs",
        "colab_type": "code",
        "colab": {
          "base_uri": "https://localhost:8080/",
          "height": 204
        },
        "outputId": "b1a7ca0f-8acb-4ecb-ece6-6e60080cb58d"
      },
      "source": [
        "df.head()"
      ],
      "execution_count": 6,
      "outputs": [
        {
          "output_type": "execute_result",
          "data": {
            "text/html": [
              "<div>\n",
              "<style scoped>\n",
              "    .dataframe tbody tr th:only-of-type {\n",
              "        vertical-align: middle;\n",
              "    }\n",
              "\n",
              "    .dataframe tbody tr th {\n",
              "        vertical-align: top;\n",
              "    }\n",
              "\n",
              "    .dataframe thead th {\n",
              "        text-align: right;\n",
              "    }\n",
              "</style>\n",
              "<table border=\"1\" class=\"dataframe\">\n",
              "  <thead>\n",
              "    <tr style=\"text-align: right;\">\n",
              "      <th></th>\n",
              "      <th>Unnamed: 0</th>\n",
              "      <th>Intoduction</th>\n",
              "      <th>Unnamed: 2</th>\n",
              "      <th>Unnamed: 3</th>\n",
              "      <th>Unnamed: 4</th>\n",
              "      <th>Unnamed: 5</th>\n",
              "      <th>Unnamed: 6</th>\n",
              "      <th>Unnamed: 7</th>\n",
              "      <th>Unnamed: 8</th>\n",
              "      <th>Unnamed: 9</th>\n",
              "    </tr>\n",
              "  </thead>\n",
              "  <tbody>\n",
              "    <tr>\n",
              "      <th>0</th>\n",
              "      <td>NaN</td>\n",
              "      <td>Acnesol Gel is an antibiotic that fights bacte...</td>\n",
              "      <td>NaN</td>\n",
              "      <td>NaN</td>\n",
              "      <td>NaN</td>\n",
              "      <td>NaN</td>\n",
              "      <td>NaN</td>\n",
              "      <td>NaN</td>\n",
              "      <td>NaN</td>\n",
              "      <td>NaN</td>\n",
              "    </tr>\n",
              "    <tr>\n",
              "      <th>1</th>\n",
              "      <td>NaN</td>\n",
              "      <td>Ambrodil Syrup is used for treating various re...</td>\n",
              "      <td>NaN</td>\n",
              "      <td>NaN</td>\n",
              "      <td>NaN</td>\n",
              "      <td>NaN</td>\n",
              "      <td>NaN</td>\n",
              "      <td>NaN</td>\n",
              "      <td>NaN</td>\n",
              "      <td>NaN</td>\n",
              "    </tr>\n",
              "    <tr>\n",
              "      <th>2</th>\n",
              "      <td>NaN</td>\n",
              "      <td>Augmentin 625 Duo Tablet is a penicillin-type ...</td>\n",
              "      <td>NaN</td>\n",
              "      <td>NaN</td>\n",
              "      <td>NaN</td>\n",
              "      <td>NaN</td>\n",
              "      <td>NaN</td>\n",
              "      <td>NaN</td>\n",
              "      <td>NaN</td>\n",
              "      <td>NaN</td>\n",
              "    </tr>\n",
              "    <tr>\n",
              "      <th>3</th>\n",
              "      <td>NaN</td>\n",
              "      <td>Azithral 500 Tablet is an antibiotic used to t...</td>\n",
              "      <td>NaN</td>\n",
              "      <td>NaN</td>\n",
              "      <td>NaN</td>\n",
              "      <td>NaN</td>\n",
              "      <td>NaN</td>\n",
              "      <td>NaN</td>\n",
              "      <td>NaN</td>\n",
              "      <td>NaN</td>\n",
              "    </tr>\n",
              "    <tr>\n",
              "      <th>4</th>\n",
              "      <td>NaN</td>\n",
              "      <td>Alkasol Oral Solution is a medicine used in th...</td>\n",
              "      <td>NaN</td>\n",
              "      <td>NaN</td>\n",
              "      <td>NaN</td>\n",
              "      <td>NaN</td>\n",
              "      <td>NaN</td>\n",
              "      <td>NaN</td>\n",
              "      <td>NaN</td>\n",
              "      <td>NaN</td>\n",
              "    </tr>\n",
              "  </tbody>\n",
              "</table>\n",
              "</div>"
            ],
            "text/plain": [
              "   Unnamed: 0  ... Unnamed: 9\n",
              "0         NaN  ...        NaN\n",
              "1         NaN  ...        NaN\n",
              "2         NaN  ...        NaN\n",
              "3         NaN  ...        NaN\n",
              "4         NaN  ...        NaN\n",
              "\n",
              "[5 rows x 10 columns]"
            ]
          },
          "metadata": {
            "tags": []
          },
          "execution_count": 6
        }
      ]
    },
    {
      "cell_type": "markdown",
      "metadata": {
        "id": "XcEvXJEUsxfF",
        "colab_type": "text"
      },
      "source": [
        "Here we can see that we need to work only with 'Intoduction' column. Thus we will remove all other columns."
      ]
    },
    {
      "cell_type": "code",
      "metadata": {
        "id": "X_7JndP2s-UQ",
        "colab_type": "code",
        "colab": {}
      },
      "source": [
        "#Selecting only the needed column.\n",
        "df = df.drop(['Unnamed: 0','Unnamed: 2','Unnamed: 3','Unnamed: 4','Unnamed: 5','Unnamed: 6','Unnamed: 7','Unnamed: 8','Unnamed: 9'], axis=1)"
      ],
      "execution_count": 7,
      "outputs": []
    },
    {
      "cell_type": "code",
      "metadata": {
        "id": "lKm2rmIgs-yO",
        "colab_type": "code",
        "colab": {
          "base_uri": "https://localhost:8080/",
          "height": 204
        },
        "outputId": "0b086af0-bb4d-489c-94c9-0a2666007ea5"
      },
      "source": [
        "df.head()"
      ],
      "execution_count": 8,
      "outputs": [
        {
          "output_type": "execute_result",
          "data": {
            "text/html": [
              "<div>\n",
              "<style scoped>\n",
              "    .dataframe tbody tr th:only-of-type {\n",
              "        vertical-align: middle;\n",
              "    }\n",
              "\n",
              "    .dataframe tbody tr th {\n",
              "        vertical-align: top;\n",
              "    }\n",
              "\n",
              "    .dataframe thead th {\n",
              "        text-align: right;\n",
              "    }\n",
              "</style>\n",
              "<table border=\"1\" class=\"dataframe\">\n",
              "  <thead>\n",
              "    <tr style=\"text-align: right;\">\n",
              "      <th></th>\n",
              "      <th>Intoduction</th>\n",
              "    </tr>\n",
              "  </thead>\n",
              "  <tbody>\n",
              "    <tr>\n",
              "      <th>0</th>\n",
              "      <td>Acnesol Gel is an antibiotic that fights bacte...</td>\n",
              "    </tr>\n",
              "    <tr>\n",
              "      <th>1</th>\n",
              "      <td>Ambrodil Syrup is used for treating various re...</td>\n",
              "    </tr>\n",
              "    <tr>\n",
              "      <th>2</th>\n",
              "      <td>Augmentin 625 Duo Tablet is a penicillin-type ...</td>\n",
              "    </tr>\n",
              "    <tr>\n",
              "      <th>3</th>\n",
              "      <td>Azithral 500 Tablet is an antibiotic used to t...</td>\n",
              "    </tr>\n",
              "    <tr>\n",
              "      <th>4</th>\n",
              "      <td>Alkasol Oral Solution is a medicine used in th...</td>\n",
              "    </tr>\n",
              "  </tbody>\n",
              "</table>\n",
              "</div>"
            ],
            "text/plain": [
              "                                         Intoduction\n",
              "0  Acnesol Gel is an antibiotic that fights bacte...\n",
              "1  Ambrodil Syrup is used for treating various re...\n",
              "2  Augmentin 625 Duo Tablet is a penicillin-type ...\n",
              "3  Azithral 500 Tablet is an antibiotic used to t...\n",
              "4  Alkasol Oral Solution is a medicine used in th..."
            ]
          },
          "metadata": {
            "tags": []
          },
          "execution_count": 8
        }
      ]
    },
    {
      "cell_type": "code",
      "metadata": {
        "id": "DVFR1mx4u0Oy",
        "colab_type": "code",
        "colab": {}
      },
      "source": [
        "stopwords = nltk.corpus.stopwords.words('english')\n",
        "\n",
        "def get_summary(text, max_len_of_sent=30, total_number_of_sentences=4):\n",
        "    '''\n",
        "    This function will return the extractive summary of a given text. Extractive\n",
        "    summarization means getting summary using the existing text only and not generating\n",
        "    any new sentence.\n",
        "    --------------------------------------------------------------\n",
        "    text: The document/text for which we need a summary.\n",
        "\n",
        "    max_len_of_sent: Maximum length to be allowed for a sentence in summary. Default = 30.\n",
        "\n",
        "    total_number_of_sentences: Number of sentences to be needed in a summary. Default = 4\n",
        "    '''\n",
        "    \n",
        "    #Removing any special characters and digts.\n",
        "    preprocessed_text = re.sub(r'[^a-zA-Z]', ' ', text)\n",
        "    #Removing extra spaces with normal one space.\n",
        "    preprocessed_text = re.sub(r'\\s+', ' ', preprocessed_text)\n",
        "    #Lower casing the text.\n",
        "    preprocessed_text = preprocessed_text.lower()\n",
        "    \n",
        "    #Dictionary to store the frequency of words.\n",
        "    word_freqs = dict()\n",
        "\n",
        "    for word in nltk.word_tokenize(preprocessed_text):\n",
        "        #Checking whether a word is stopword or not.\n",
        "        if word not in stopwords:\n",
        "            #Checking whether a word is present in dictionary or not.\n",
        "            if word not in word_freqs.keys():\n",
        "                word_freqs[word] = 1\n",
        "            else:\n",
        "                word_freqs[word] += 1\n",
        "\n",
        "    max_freq = max(word_freqs.values())\n",
        "\n",
        "    #Getting score for each word in the word_freqs dictionary by dividing its value by maximum frequency of a word.\n",
        "    for word in word_freqs.keys():\n",
        "        word_freqs[word] = (word_freqs[word] / max_freq)\n",
        "\n",
        "    #List of all sentences in a text.\n",
        "    sentence_list = nltk.sent_tokenize(text)\n",
        "\n",
        "    #Dictionary to store score of every sentence in a particular text.\n",
        "    sent_scores = dict()\n",
        "\n",
        "    for sent in sentence_list:\n",
        "        for word in nltk.word_tokenize(sent.lower()):\n",
        "            if word in word_freqs.keys():\n",
        "                if len(sent.split(' ')) < max_len_of_sent:\n",
        "                    if sent not in sent_scores.keys():\n",
        "                        sent_scores[sent] = word_freqs[word]\n",
        "                    else:\n",
        "                        sent_scores[sent] += word_freqs[word]\n",
        "\n",
        "    #Selecting i number of sentences with highest scores.\n",
        "    summary_sentences = heapq.nlargest(total_number_of_sentences, sent_scores, key=sent_scores.get)\n",
        "\n",
        "    #Joining all the sentences to get a summary of a text.\n",
        "    summary = ' '.join(summary_sentences)\n",
        "\n",
        "    return summary"
      ],
      "execution_count": 21,
      "outputs": []
    },
    {
      "cell_type": "code",
      "metadata": {
        "id": "QqPGT5TQu0Wl",
        "colab_type": "code",
        "colab": {
          "base_uri": "https://localhost:8080/",
          "height": 204
        },
        "outputId": "a353075d-c9e9-44bb-e8e4-b0c0e5b8c8a0"
      },
      "source": [
        "#Creating summary columns by applying get_summary function to respective text.\n",
        "df['Summary'] = df['Intoduction'].apply(lambda x: get_summary(x))\n",
        "df.head()"
      ],
      "execution_count": 22,
      "outputs": [
        {
          "output_type": "execute_result",
          "data": {
            "text/html": [
              "<div>\n",
              "<style scoped>\n",
              "    .dataframe tbody tr th:only-of-type {\n",
              "        vertical-align: middle;\n",
              "    }\n",
              "\n",
              "    .dataframe tbody tr th {\n",
              "        vertical-align: top;\n",
              "    }\n",
              "\n",
              "    .dataframe thead th {\n",
              "        text-align: right;\n",
              "    }\n",
              "</style>\n",
              "<table border=\"1\" class=\"dataframe\">\n",
              "  <thead>\n",
              "    <tr style=\"text-align: right;\">\n",
              "      <th></th>\n",
              "      <th>Intoduction</th>\n",
              "      <th>Summary</th>\n",
              "    </tr>\n",
              "  </thead>\n",
              "  <tbody>\n",
              "    <tr>\n",
              "      <th>0</th>\n",
              "      <td>Acnesol Gel is an antibiotic that fights bacte...</td>\n",
              "      <td>Ask your doctor when you should stop treatment...</td>\n",
              "    </tr>\n",
              "    <tr>\n",
              "      <th>1</th>\n",
              "      <td>Ambrodil Syrup is used for treating various re...</td>\n",
              "      <td>It is advised not to use it for more than 14 d...</td>\n",
              "    </tr>\n",
              "    <tr>\n",
              "      <th>2</th>\n",
              "      <td>Augmentin 625 Duo Tablet is a penicillin-type ...</td>\n",
              "      <td>You should also let your healthcare team know ...</td>\n",
              "    </tr>\n",
              "    <tr>\n",
              "      <th>3</th>\n",
              "      <td>Azithral 500 Tablet is an antibiotic used to t...</td>\n",
              "      <td>Stopping the medicine too early may lead to th...</td>\n",
              "    </tr>\n",
              "    <tr>\n",
              "      <th>4</th>\n",
              "      <td>Alkasol Oral Solution is a medicine used in th...</td>\n",
              "      <td>If you are pregnant or breastfeeding, consult ...</td>\n",
              "    </tr>\n",
              "  </tbody>\n",
              "</table>\n",
              "</div>"
            ],
            "text/plain": [
              "                                         Intoduction                                            Summary\n",
              "0  Acnesol Gel is an antibiotic that fights bacte...  Ask your doctor when you should stop treatment...\n",
              "1  Ambrodil Syrup is used for treating various re...  It is advised not to use it for more than 14 d...\n",
              "2  Augmentin 625 Duo Tablet is a penicillin-type ...  You should also let your healthcare team know ...\n",
              "3  Azithral 500 Tablet is an antibiotic used to t...  Stopping the medicine too early may lead to th...\n",
              "4  Alkasol Oral Solution is a medicine used in th...  If you are pregnant or breastfeeding, consult ..."
            ]
          },
          "metadata": {
            "tags": []
          },
          "execution_count": 22
        }
      ]
    },
    {
      "cell_type": "code",
      "metadata": {
        "id": "U7Ftrf8au0eg",
        "colab_type": "code",
        "colab": {
          "base_uri": "https://localhost:8080/",
          "height": 86
        },
        "outputId": "bc751f0b-2c12-43fe-ecb9-22ca0a176b99"
      },
      "source": [
        "df['Summary'][1]"
      ],
      "execution_count": 23,
      "outputs": [
        {
          "output_type": "execute_result",
          "data": {
            "application/vnd.google.colaboratory.intrinsic": {
              "type": "string"
            },
            "text/plain": [
              "\"It is advised not to use it for more than 14 days without doctor consultation.The most common side effects of this medicine include vomiting, nausea, and stomach upset. Your doctor should also know about all other medicines you are taking as many of these may make this medicine less effective or change the way it works. You must take doctor's advice before using this medicine if you are pregnant or breastfeeding. It works by thinning and loosens mucus in the nose, windpipe and lungs and make it easier to cough out.Ambrodil Syrup should be taken with food.\""
            ]
          },
          "metadata": {
            "tags": []
          },
          "execution_count": 23
        }
      ]
    },
    {
      "cell_type": "code",
      "metadata": {
        "id": "83C3v1gKu0oE",
        "colab_type": "code",
        "colab": {}
      },
      "source": [
        ""
      ],
      "execution_count": null,
      "outputs": []
    },
    {
      "cell_type": "code",
      "metadata": {
        "id": "8z4YNIq4u0ux",
        "colab_type": "code",
        "colab": {}
      },
      "source": [
        ""
      ],
      "execution_count": null,
      "outputs": []
    },
    {
      "cell_type": "code",
      "metadata": {
        "id": "Y2PNXriou01A",
        "colab_type": "code",
        "colab": {}
      },
      "source": [
        ""
      ],
      "execution_count": null,
      "outputs": []
    }
  ]
}